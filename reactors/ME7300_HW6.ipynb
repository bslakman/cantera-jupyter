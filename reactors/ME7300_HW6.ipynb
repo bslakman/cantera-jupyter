{
 "cells": [
  {
   "cell_type": "markdown",
   "metadata": {},
   "source": [
    "# Combustion and Air Pollution HW #6\n",
    "\n",
    "In this homework we will use more detailed combustion chemistry then we previously considered in this class, along with the Zeldovich mechanism for thermal fixation of atmospheric N2, to model and predict NOx formation in heptane combustion.\n",
    "We use an open source software tool called [Cantera](http://www.cantera.org/docs/sphinx/html/index.html) which helps us solve thermodynamics and kinetics problems.\n",
    "\n",
    "This homework was adapted from a lecture in Prof. Richard West's undergraduate chemical kinetics class in the Department of Chemical Engineering as well as existing Python notebooks in the [cantera-jupyter project](https://github.com/cantera/cantera-jupyter). \n",
    "\n",
    "#### Simply click inside the cells below to be able to type in and edit them, and press Shift+Enter to execute the code in a cell that is selected."
   ]
  },
  {
   "cell_type": "code",
   "execution_count": 1,
   "metadata": {
    "collapsed": true
   },
   "outputs": [],
   "source": [
    "import cantera as ct\n",
    "import numpy as np\n",
    "import scipy"
   ]
  },
  {
   "cell_type": "markdown",
   "metadata": {},
   "source": [
    "The n-heptane ($C_7H_{16}$) mechanism we will consider is from the Lawrence Livermore National Lab (LLNL), with the 3-reaction Zeldovich mechanism manually added to it. First we create a Solution object in Cantera for n-heptane gas that includes all of the thermodynamic and kinetic parameters needed to describe its combustion. (Don't worry about the warning)"
   ]
  },
  {
   "cell_type": "code",
   "execution_count": 46,
   "metadata": {
    "collapsed": false
   },
   "outputs": [
    {
     "name": "stdout",
     "output_type": "stream",
     "text": [
      "\n",
      "\n",
      "**** WARNING ****\n",
      "For species c7h15o-1, discontinuity in cp/R detected at Tmid = 1391\n",
      "\tValue computed using low-temperature polynomial:  53.0168.\n",
      "\tValue computed using high-temperature polynomial: 52.748.\n"
     ]
    }
   ],
   "source": [
    "gas = ct.Solution('heptanesymp159.cti')"
   ]
  },
  {
   "cell_type": "markdown",
   "metadata": {},
   "source": [
    "We can print out some chemical species and reactions that are considered in the mechanism:"
   ]
  },
  {
   "cell_type": "code",
   "execution_count": 53,
   "metadata": {
    "collapsed": false
   },
   "outputs": [
    {
     "name": "stdout",
     "output_type": "stream",
     "text": [
      "n2 ch3 h ch4 h2 oh h2o o c2h6 c2h5 hco co co2 o2 h2o2 ho2 c2h4 ch3oh ch2oh ch3o\n",
      "ch3 + h (+M) => ch4 (+M)\n",
      "ch4 (+M) => ch3 + h (+M)\n",
      "ch4 + h => ch3 + h2\n",
      "ch3 + h2 => ch4 + h\n",
      "ch4 + oh => ch3 + h2o\n",
      "ch3 + h2o => ch4 + oh\n",
      "ch4 + o => ch3 + oh\n",
      "ch3 + oh => ch4 + o\n",
      "c2h6 + ch3 => c2h5 + ch4\n",
      "c2h5 + ch4 => c2h6 + ch3\n",
      "hco + oh => co + h2o\n",
      "co + h2o => hco + oh\n",
      "co + oh => co2 + h\n",
      "co2 + h => co + oh\n",
      "h + o2 => o + oh\n",
      "o + oh => h + o2\n",
      "h2 + o => h + oh\n",
      "h + oh => h2 + o\n",
      "h2o + o => 2 oh\n",
      "2 oh => h2o + o\n",
      "There are 1543 reactions in this mechanism!\n"
     ]
    }
   ],
   "source": [
    "print \" \".join(gas.species_names[:20])\n",
    "for i in range(20):\n",
    "    print gas.reaction(i)\n",
    "print \"There are {0} reactions in this mechanism!\".format(len(gas.reactions()))"
   ]
  },
  {
   "cell_type": "markdown",
   "metadata": {},
   "source": [
    "Let's look at the last few reactions in the mechanism, representing the Zeldovich mechanism."
   ]
  },
  {
   "cell_type": "code",
   "execution_count": 51,
   "metadata": {
    "collapsed": false
   },
   "outputs": [
    {
     "name": "stdout",
     "output_type": "stream",
     "text": [
      "n + no <=> n2 + o Arrhenius(A=2.7e+10, b=0, E=1.48532e+06)\n",
      "n + o2 <=> no + o Arrhenius(A=9e+06, b=1, E=2.7196e+07)\n",
      "n + oh <=> h + no Arrhenius(A=3.36e+10, b=0, E=1.61084e+06)\n"
     ]
    }
   ],
   "source": [
    "zeldovich = gas.reactions()[-3:]\n",
    "for rxn in zeldovich:\n",
    "    print rxn.equation, rxn.rate"
   ]
  },
  {
   "cell_type": "markdown",
   "metadata": {},
   "source": [
    "Just want to check at least one rate to make sure it's reasonably close to the one in the book...These came from the gri mech."
   ]
  },
  {
   "cell_type": "code",
   "execution_count": 102,
   "metadata": {
    "collapsed": false
   },
   "outputs": [],
   "source": [
    "T = np.linspace(300,2500,100)"
   ]
  },
  {
   "cell_type": "code",
   "execution_count": 93,
   "metadata": {
    "collapsed": false
   },
   "outputs": [],
   "source": [
    "A = rxn.rate.pre_exponential_factor / 1000.0\n",
    "n = rxn.rate.temperature_exponent\n",
    "Ea = rxn.rate.activation_energy / 1000.0"
   ]
  },
  {
   "cell_type": "code",
   "execution_count": 103,
   "metadata": {
    "collapsed": false
   },
   "outputs": [],
   "source": [
    "rate_mech = A * T**n * np.exp(-Ea/8.314/T)\n",
    "rate_book = 7.1E7 * np.exp(-450.0/T)"
   ]
  },
  {
   "cell_type": "code",
   "execution_count": 95,
   "metadata": {
    "collapsed": true
   },
   "outputs": [],
   "source": [
    "import matplotlib.pyplot as plt\n",
    "%matplotlib inline"
   ]
  },
  {
   "cell_type": "code",
   "execution_count": 104,
   "metadata": {
    "collapsed": false
   },
   "outputs": [
    {
     "data": {
      "text/plain": [
       "[<matplotlib.lines.Line2D at 0x1069c5a10>]"
      ]
     },
     "execution_count": 104,
     "metadata": {},
     "output_type": "execute_result"
    },
    {
     "data": {
      "image/png": "[encoded data removed]",
      "text/plain": [
       "<matplotlib.figure.Figure at 0x1069cdb10>"
      ]
     },
     "metadata": {},
     "output_type": "display_data"
    }
   ],
   "source": [
    "plt.plot(1.0/T, np.log(rate_mech))\n",
    "plt.plot(1.0/T, np.log(rate_book))"
   ]
  },
  {
   "cell_type": "markdown",
   "metadata": {},
   "source": [
    "We'll specify a starting temperature and pressure of 1000 K and 3 bar, and stoichiometric combustion\n",
    "#### a. Specify the moles of O2 and N2 based on stoichiometric combustion.\n",
    "Replace the \"xxxx\" with the correct number of moles."
   ]
  },
  {
   "cell_type": "code",
   "execution_count": 219,
   "metadata": {
    "collapsed": true
   },
   "outputs": [],
   "source": [
    "gas.TPX = 1000, 3e5, 'nc7h16:1.0,o2:11.0,n2:41.58'\n",
    "#gas.TPX = 1000, 3e5, 'nc7h16:1.0,o2:xxxx,n2:xxxx'"
   ]
  },
  {
   "cell_type": "markdown",
   "metadata": {},
   "source": [
    "We'll find the equilibrium flame temperature by equilibrating keeping pressure and enthalpy constant."
   ]
  },
  {
   "cell_type": "code",
   "execution_count": 214,
   "metadata": {
    "collapsed": false
   },
   "outputs": [
    {
     "name": "stdout",
     "output_type": "stream",
     "text": [
      "The adiabatic flame temperature is 2633 K\n",
      "If you did part a properly, you should get a flame temperature of 2633 K.\n"
     ]
    }
   ],
   "source": [
    "gas.equilibrate('HP')\n",
    "print \"The adiabatic flame temperature is {0} K\".format(int(round(gas.T)))\n",
    "print \"If you did part a properly, you should get a flame temperature of 2633 K.\""
   ]
  },
  {
   "cell_type": "markdown",
   "metadata": {
    "collapsed": true
   },
   "source": [
    "Let's print out the concentration of some components at equilibrium."
   ]
  },
  {
   "cell_type": "code",
   "execution_count": 215,
   "metadata": {
    "collapsed": false
   },
   "outputs": [
    {
     "name": "stdout",
     "output_type": "stream",
     "text": [
      "Heptane: 4.44e-98\n",
      "OH: 8.75e-03\n",
      "NO: 6.93e-03\n",
      "O2: 1.33e-02\n"
     ]
    }
   ],
   "source": [
    "print \"Heptane: {:.2e}\".format(gas['nc7h16'].X[0])\n",
    "print \"OH: {:.2e}\".format(gas['oh'].X[0])\n",
    "print \"NO: {:.2e}\".format(gas['no'].X[0])\n",
    "print \"O2: {:.2e}\".format(gas['o2'].X[0])"
   ]
  },
  {
   "cell_type": "markdown",
   "metadata": {},
   "source": [
    "#### b. What is the NO concentration if the fuel is burned at an initial temperature of 600, 800, and 1200 K?\n",
    "Replace the temperature above and rerun that and the following cells."
   ]
  },
  {
   "cell_type": "markdown",
   "metadata": {},
   "source": [
    "### Kinetics\n",
    "We will burn the gas starting at the same temperature, but atmospheric pressure. This time we will hold volume constant using an ideal gas reactor, so pressure can change.\n",
    "The following code will print out the simulation time along with temperature, pressure, and internal energy."
   ]
  },
  {
   "cell_type": "code",
   "execution_count": 225,
   "metadata": {
    "collapsed": false
   },
   "outputs": [
    {
     "name": "stdout",
     "output_type": "stream",
     "text": [
      "     t [s]      T [K]     P [Pa]       u [J/kg]\n",
      " 0.000e+00   1000.000 100000.000   4.411596e+05\n",
      " 1.000e-03    999.950  99996.869   4.411596e+05\n",
      " 2.000e-03    999.865  99992.564   4.411596e+05\n",
      " 3.000e-03    999.746  99987.409   4.411596e+05\n",
      " 4.000e-03    999.594  99981.745   4.411596e+05\n",
      " 5.000e-03    999.409  99975.879   4.411596e+05\n",
      " 6.000e-03    999.192  99970.104   4.411596e+05\n",
      " 7.000e-03    998.945  99964.722   4.411596e+05\n",
      " 8.000e-03    998.670  99960.063   4.411596e+05\n",
      " 9.000e-03    998.369  99956.491   4.411596e+05\n",
      " 1.000e-02    998.044  99954.413   4.411596e+05\n",
      " 1.100e-02    997.698  99954.297   4.411596e+05\n",
      " 1.200e-02    997.334  99956.682   4.411596e+05\n",
      " 1.300e-02    996.956  99962.206   4.411596e+05\n",
      " 1.400e-02    996.570  99971.635   4.411596e+05\n",
      " 1.500e-02    996.180  99985.904   4.411596e+05\n",
      " 1.600e-02    995.794 100006.175   4.411596e+05\n",
      " 1.700e-02    995.423 100033.917   4.411596e+05\n",
      " 1.800e-02    995.076 100071.009   4.411596e+05\n",
      " 1.900e-02    994.772 100119.895   4.411596e+05\n",
      " 2.000e-02    994.531 100183.798   4.411596e+05\n",
      " 2.100e-02    994.385 100267.029   4.411596e+05\n",
      " 2.200e-02    994.375 100375.444   4.411596e+05\n",
      " 2.300e-02    994.560 100517.146   4.411596e+05\n",
      " 2.400e-02    995.028 100703.572   4.411596e+05\n",
      " 2.500e-02    995.906 100951.286   4.411596e+05\n",
      " 2.600e-02    997.388 101285.042   4.411596e+05\n",
      " 2.700e-02    999.781 101743.389   4.411596e+05\n",
      " 2.800e-02   1003.597 102389.820   4.411596e+05\n",
      " 2.900e-02   1009.758 103337.514   4.411596e+05\n",
      " 3.000e-02   1020.132 104813.766   4.411596e+05\n",
      " 3.100e-02   1039.332 107375.511   4.411596e+05\n",
      " 3.200e-02   1084.523 113079.826   4.411596e+05\n",
      " 3.300e-02   2802.973 308632.787   4.411596e+05\n",
      " 3.400e-02   2818.106 309541.138   4.411596e+05\n",
      " 3.500e-02   2815.329 309213.938   4.411596e+05\n",
      " 3.600e-02   2814.894 309162.779   4.411596e+05\n",
      " 3.700e-02   2814.827 309154.896   4.411596e+05\n",
      " 3.800e-02   2814.817 309153.684   4.411596e+05\n",
      " 3.900e-02   2814.815 309153.498   4.411596e+05\n",
      " 4.000e-02   2814.815 309153.469   4.411596e+05\n",
      " 4.100e-02   2814.815 309153.465   4.411596e+05\n",
      " 4.200e-02   2814.815 309153.464   4.411596e+05\n",
      " 4.300e-02   2814.815 309153.464   4.411596e+05\n",
      " 4.400e-02   2814.815 309153.464   4.411596e+05\n",
      " 4.500e-02   2814.815 309153.464   4.411596e+05\n",
      " 4.600e-02   2814.815 309153.464   4.411596e+05\n",
      " 4.700e-02   2814.815 309153.464   4.411596e+05\n",
      " 4.800e-02   2814.815 309153.464   4.411596e+05\n",
      " 4.900e-02   2814.815 309153.464   4.411596e+05\n",
      " 5.000e-02   2814.815 309153.464   4.411596e+05\n",
      " 5.100e-02   2814.815 309153.464   4.411596e+05\n",
      " 5.200e-02   2814.815 309153.464   4.411596e+05\n",
      " 5.300e-02   2814.815 309153.464   4.411596e+05\n",
      " 5.400e-02   2814.815 309153.464   4.411596e+05\n",
      " 5.500e-02   2814.815 309153.464   4.411596e+05\n",
      " 5.600e-02   2814.815 309153.464   4.411596e+05\n",
      " 5.700e-02   2814.815 309153.464   4.411596e+05\n",
      " 5.800e-02   2814.815 309153.464   4.411596e+05\n",
      " 5.900e-02   2814.815 309153.464   4.411596e+05\n",
      " 6.000e-02   2814.815 309153.464   4.411596e+05\n",
      " 6.100e-02   2814.815 309153.464   4.411596e+05\n",
      " 6.200e-02   2814.815 309153.464   4.411596e+05\n",
      " 6.300e-02   2814.815 309153.464   4.411596e+05\n",
      " 6.400e-02   2814.815 309153.464   4.411596e+05\n",
      " 6.500e-02   2814.815 309153.464   4.411596e+05\n",
      " 6.600e-02   2814.815 309153.464   4.411596e+05\n",
      " 6.700e-02   2814.815 309153.464   4.411596e+05\n",
      " 6.800e-02   2814.815 309153.464   4.411596e+05\n",
      " 6.900e-02   2814.815 309153.464   4.411596e+05\n",
      " 7.000e-02   2814.815 309153.464   4.411596e+05\n",
      " 7.100e-02   2814.815 309153.464   4.411596e+05\n",
      " 7.200e-02   2814.815 309153.464   4.411596e+05\n",
      " 7.300e-02   2814.815 309153.464   4.411596e+05\n",
      " 7.400e-02   2814.815 309153.464   4.411596e+05\n",
      " 7.500e-02   2814.815 309153.464   4.411596e+05\n",
      " 7.600e-02   2814.815 309153.464   4.411596e+05\n",
      " 7.700e-02   2814.815 309153.464   4.411596e+05\n",
      " 7.800e-02   2814.815 309153.464   4.411596e+05\n",
      " 7.900e-02   2814.815 309153.464   4.411596e+05\n",
      " 8.000e-02   2814.815 309153.464   4.411596e+05\n",
      " 8.100e-02   2814.815 309153.464   4.411596e+05\n",
      " 8.200e-02   2814.815 309153.464   4.411596e+05\n",
      " 8.300e-02   2814.815 309153.464   4.411596e+05\n",
      " 8.400e-02   2814.815 309153.464   4.411596e+05\n",
      " 8.500e-02   2814.815 309153.464   4.411596e+05\n",
      " 8.600e-02   2814.815 309153.464   4.411596e+05\n",
      " 8.700e-02   2814.815 309153.464   4.411596e+05\n",
      " 8.800e-02   2814.815 309153.464   4.411596e+05\n",
      " 8.900e-02   2814.815 309153.464   4.411596e+05\n",
      " 9.000e-02   2814.815 309153.464   4.411596e+05\n",
      " 9.100e-02   2814.815 309153.464   4.411596e+05\n",
      " 9.200e-02   2814.815 309153.464   4.411596e+05\n",
      " 9.300e-02   2814.815 309153.464   4.411596e+05\n",
      " 9.400e-02   2814.815 309153.464   4.411596e+05\n",
      " 9.500e-02   2814.815 309153.464   4.411596e+05\n",
      " 9.600e-02   2814.815 309153.464   4.411596e+05\n",
      " 9.700e-02   2814.815 309153.464   4.411596e+05\n",
      " 9.800e-02   2814.815 309153.464   4.411596e+05\n",
      " 9.900e-02   2814.815 309153.464   4.411596e+05\n",
      " 1.000e-01   2814.815 309153.464   4.411596e+05\n",
      " 1.010e-01   2814.815 309153.464   4.411596e+05\n",
      " 1.020e-01   2814.815 309153.464   4.411596e+05\n",
      " 1.030e-01   2814.815 309153.464   4.411596e+05\n",
      " 1.040e-01   2814.815 309153.464   4.411596e+05\n",
      " 1.050e-01   2814.815 309153.464   4.411596e+05\n",
      " 1.060e-01   2814.815 309153.464   4.411596e+05\n",
      " 1.070e-01   2814.815 309153.464   4.411596e+05\n",
      " 1.080e-01   2814.815 309153.464   4.411596e+05\n",
      " 1.090e-01   2814.815 309153.464   4.411596e+05\n",
      " 1.100e-01   2814.815 309153.464   4.411596e+05\n",
      " 1.110e-01   2814.815 309153.464   4.411596e+05\n",
      " 1.120e-01   2814.815 309153.464   4.411596e+05\n",
      " 1.130e-01   2814.815 309153.464   4.411596e+05\n",
      " 1.140e-01   2814.815 309153.464   4.411596e+05\n",
      " 1.150e-01   2814.815 309153.464   4.411596e+05\n",
      " 1.160e-01   2814.815 309153.464   4.411596e+05\n",
      " 1.170e-01   2814.815 309153.464   4.411596e+05\n",
      " 1.180e-01   2814.815 309153.464   4.411596e+05\n",
      " 1.190e-01   2814.815 309153.464   4.411596e+05\n",
      " 1.200e-01   2814.815 309153.464   4.411596e+05\n",
      " 1.210e-01   2814.815 309153.464   4.411596e+05\n",
      " 1.220e-01   2814.815 309153.464   4.411596e+05\n",
      " 1.230e-01   2814.815 309153.464   4.411596e+05\n",
      " 1.240e-01   2814.815 309153.464   4.411596e+05\n",
      " 1.250e-01   2814.815 309153.464   4.411596e+05\n",
      " 1.260e-01   2814.815 309153.464   4.411596e+05\n",
      " 1.270e-01   2814.815 309153.464   4.411596e+05\n",
      " 1.280e-01   2814.815 309153.464   4.411596e+05\n",
      " 1.290e-01   2814.815 309153.464   4.411596e+05\n",
      " 1.300e-01   2814.815 309153.464   4.411596e+05\n",
      " 1.310e-01   2814.815 309153.464   4.411596e+05\n",
      " 1.320e-01   2814.815 309153.464   4.411596e+05\n",
      " 1.330e-01   2814.815 309153.464   4.411596e+05\n",
      " 1.340e-01   2814.815 309153.464   4.411596e+05\n",
      " 1.350e-01   2814.815 309153.464   4.411596e+05\n",
      " 1.360e-01   2814.815 309153.464   4.411596e+05\n",
      " 1.370e-01   2814.815 309153.464   4.411596e+05\n",
      " 1.380e-01   2814.815 309153.464   4.411596e+05\n",
      " 1.390e-01   2814.815 309153.464   4.411596e+05\n",
      " 1.400e-01   2814.815 309153.464   4.411596e+05\n",
      " 1.410e-01   2814.815 309153.464   4.411596e+05\n",
      " 1.420e-01   2814.815 309153.464   4.411596e+05\n",
      " 1.430e-01   2814.815 309153.464   4.411596e+05\n",
      " 1.440e-01   2814.815 309153.464   4.411596e+05\n",
      " 1.450e-01   2814.815 309153.464   4.411596e+05\n",
      " 1.460e-01   2814.815 309153.464   4.411596e+05\n",
      " 1.470e-01   2814.815 309153.464   4.411596e+05\n",
      " 1.480e-01   2814.815 309153.464   4.411596e+05\n",
      " 1.490e-01   2814.815 309153.464   4.411596e+05\n",
      " 1.500e-01   2814.815 309153.464   4.411596e+05\n",
      " 1.510e-01   2814.815 309153.464   4.411596e+05\n",
      " 1.520e-01   2814.815 309153.464   4.411596e+05\n",
      " 1.530e-01   2814.815 309153.464   4.411596e+05\n",
      " 1.540e-01   2814.815 309153.464   4.411596e+05\n",
      " 1.550e-01   2814.815 309153.464   4.411596e+05\n",
      " 1.560e-01   2814.815 309153.464   4.411596e+05\n",
      " 1.570e-01   2814.815 309153.464   4.411596e+05\n",
      " 1.580e-01   2814.815 309153.464   4.411596e+05\n",
      " 1.590e-01   2814.815 309153.464   4.411596e+05\n",
      " 1.600e-01   2814.815 309153.464   4.411596e+05\n",
      " 1.610e-01   2814.815 309153.464   4.411596e+05\n",
      " 1.620e-01   2814.815 309153.464   4.411596e+05\n",
      " 1.630e-01   2814.815 309153.464   4.411596e+05\n",
      " 1.640e-01   2814.815 309153.464   4.411596e+05\n",
      " 1.650e-01   2814.815 309153.464   4.411596e+05\n",
      " 1.660e-01   2814.815 309153.464   4.411596e+05\n",
      " 1.670e-01   2814.815 309153.464   4.411596e+05\n",
      " 1.680e-01   2814.815 309153.464   4.411596e+05\n",
      " 1.690e-01   2814.815 309153.464   4.411596e+05\n",
      " 1.700e-01   2814.815 309153.464   4.411596e+05\n",
      " 1.710e-01   2814.815 309153.464   4.411596e+05\n",
      " 1.720e-01   2814.815 309153.464   4.411596e+05\n",
      " 1.730e-01   2814.815 309153.464   4.411596e+05\n",
      " 1.740e-01   2814.815 309153.464   4.411596e+05\n",
      " 1.750e-01   2814.815 309153.464   4.411596e+05\n",
      " 1.760e-01   2814.815 309153.464   4.411596e+05\n",
      " 1.770e-01   2814.815 309153.464   4.411596e+05\n",
      " 1.780e-01   2814.815 309153.464   4.411596e+05\n",
      " 1.790e-01   2814.815 309153.464   4.411596e+05\n",
      " 1.800e-01   2814.815 309153.464   4.411596e+05\n",
      " 1.810e-01   2814.815 309153.464   4.411596e+05\n",
      " 1.820e-01   2814.815 309153.464   4.411596e+05\n",
      " 1.830e-01   2814.815 309153.464   4.411596e+05\n",
      " 1.840e-01   2814.815 309153.464   4.411596e+05\n",
      " 1.850e-01   2814.815 309153.464   4.411596e+05\n",
      " 1.860e-01   2814.815 309153.464   4.411596e+05\n",
      " 1.870e-01   2814.815 309153.464   4.411596e+05\n",
      " 1.880e-01   2814.815 309153.464   4.411596e+05\n",
      " 1.890e-01   2814.815 309153.464   4.411596e+05\n",
      " 1.900e-01   2814.815 309153.464   4.411596e+05\n",
      " 1.910e-01   2814.815 309153.464   4.411596e+05\n",
      " 1.920e-01   2814.815 309153.464   4.411596e+05\n",
      " 1.930e-01   2814.815 309153.464   4.411596e+05\n",
      " 1.940e-01   2814.815 309153.464   4.411596e+05\n",
      " 1.950e-01   2814.815 309153.464   4.411596e+05\n",
      " 1.960e-01   2814.815 309153.464   4.411596e+05\n",
      " 1.970e-01   2814.815 309153.464   4.411596e+05\n",
      " 1.980e-01   2814.815 309153.464   4.411596e+05\n",
      " 1.990e-01   2814.815 309153.464   4.411596e+05\n",
      " 2.000e-01   2814.815 309153.464   4.411596e+05\n",
      " 2.010e-01   2814.815 309153.464   4.411596e+05\n",
      " 2.020e-01   2814.815 309153.464   4.411596e+05\n",
      " 2.030e-01   2814.815 309153.464   4.411596e+05\n",
      " 2.040e-01   2814.815 309153.464   4.411596e+05\n",
      " 2.050e-01   2814.815 309153.464   4.411596e+05\n",
      " 2.060e-01   2814.815 309153.464   4.411596e+05\n",
      " 2.070e-01   2814.815 309153.464   4.411596e+05\n",
      " 2.080e-01   2814.815 309153.464   4.411596e+05\n",
      " 2.090e-01   2814.815 309153.464   4.411596e+05\n",
      " 2.100e-01   2814.815 309153.464   4.411596e+05\n",
      " 2.110e-01   2814.815 309153.464   4.411596e+05\n",
      " 2.120e-01   2814.815 309153.464   4.411596e+05\n",
      " 2.130e-01   2814.815 309153.464   4.411596e+05\n",
      " 2.140e-01   2814.815 309153.464   4.411596e+05\n",
      " 2.150e-01   2814.815 309153.464   4.411596e+05\n",
      " 2.160e-01   2814.815 309153.464   4.411596e+05\n",
      " 2.170e-01   2814.815 309153.464   4.411596e+05\n",
      " 2.180e-01   2814.815 309153.464   4.411596e+05\n",
      " 2.190e-01   2814.815 309153.464   4.411596e+05\n",
      " 2.200e-01   2814.815 309153.464   4.411596e+05\n",
      " 2.210e-01   2814.815 309153.464   4.411596e+05\n",
      " 2.220e-01   2814.815 309153.464   4.411596e+05\n",
      " 2.230e-01   2814.815 309153.464   4.411596e+05\n",
      " 2.240e-01   2814.815 309153.464   4.411596e+05\n",
      " 2.250e-01   2814.815 309153.464   4.411596e+05\n",
      " 2.260e-01   2814.815 309153.464   4.411596e+05\n",
      " 2.270e-01   2814.815 309153.464   4.411596e+05\n",
      " 2.280e-01   2814.815 309153.464   4.411596e+05\n",
      " 2.290e-01   2814.815 309153.464   4.411596e+05\n",
      " 2.300e-01   2814.815 309153.464   4.411596e+05\n",
      " 2.310e-01   2814.815 309153.464   4.411596e+05\n",
      " 2.320e-01   2814.815 309153.464   4.411596e+05\n",
      " 2.330e-01   2814.815 309153.464   4.411596e+05\n",
      " 2.340e-01   2814.815 309153.464   4.411596e+05\n",
      " 2.350e-01   2814.815 309153.464   4.411596e+05\n",
      " 2.360e-01   2814.815 309153.464   4.411596e+05\n",
      " 2.370e-01   2814.815 309153.464   4.411596e+05\n",
      " 2.380e-01   2814.815 309153.464   4.411596e+05\n",
      " 2.390e-01   2814.815 309153.464   4.411596e+05\n",
      " 2.400e-01   2814.815 309153.464   4.411596e+05\n",
      " 2.410e-01   2814.815 309153.464   4.411596e+05\n",
      " 2.420e-01   2814.815 309153.464   4.411596e+05\n",
      " 2.430e-01   2814.815 309153.464   4.411596e+05\n",
      " 2.440e-01   2814.815 309153.464   4.411596e+05\n",
      " 2.450e-01   2814.815 309153.464   4.411596e+05\n",
      " 2.460e-01   2814.815 309153.464   4.411596e+05\n",
      " 2.470e-01   2814.815 309153.464   4.411596e+05\n",
      " 2.480e-01   2814.815 309153.464   4.411596e+05\n",
      " 2.490e-01   2814.815 309153.464   4.411596e+05\n",
      " 2.500e-01   2814.815 309153.464   4.411596e+05\n",
      " 2.510e-01   2814.815 309153.464   4.411596e+05\n",
      " 2.520e-01   2814.815 309153.464   4.411596e+05\n",
      " 2.530e-01   2814.815 309153.464   4.411596e+05\n",
      " 2.540e-01   2814.815 309153.464   4.411596e+05\n",
      " 2.550e-01   2814.815 309153.464   4.411596e+05\n",
      " 2.560e-01   2814.815 309153.464   4.411596e+05\n",
      " 2.570e-01   2814.815 309153.464   4.411596e+05\n",
      " 2.580e-01   2814.815 309153.464   4.411596e+05\n",
      " 2.590e-01   2814.815 309153.464   4.411596e+05\n",
      " 2.600e-01   2814.815 309153.464   4.411596e+05\n",
      " 2.610e-01   2814.815 309153.464   4.411596e+05\n",
      " 2.620e-01   2814.815 309153.464   4.411596e+05\n",
      " 2.630e-01   2814.815 309153.464   4.411596e+05\n",
      " 2.640e-01   2814.815 309153.464   4.411596e+05\n",
      " 2.650e-01   2814.815 309153.464   4.411596e+05\n",
      " 2.660e-01   2814.815 309153.464   4.411596e+05\n",
      " 2.670e-01   2814.815 309153.464   4.411596e+05\n",
      " 2.680e-01   2814.815 309153.464   4.411596e+05\n",
      " 2.690e-01   2814.815 309153.464   4.411596e+05\n",
      " 2.700e-01   2814.815 309153.464   4.411596e+05\n",
      " 2.710e-01   2814.815 309153.464   4.411596e+05\n",
      " 2.720e-01   2814.815 309153.464   4.411596e+05\n",
      " 2.730e-01   2814.815 309153.464   4.411596e+05\n",
      " 2.740e-01   2814.815 309153.464   4.411596e+05\n",
      " 2.750e-01   2814.815 309153.464   4.411596e+05\n",
      " 2.760e-01   2814.815 309153.464   4.411596e+05\n",
      " 2.770e-01   2814.815 309153.464   4.411596e+05\n",
      " 2.780e-01   2814.815 309153.464   4.411596e+05\n",
      " 2.790e-01   2814.815 309153.464   4.411596e+05\n",
      " 2.800e-01   2814.815 309153.464   4.411596e+05\n",
      " 2.810e-01   2814.815 309153.464   4.411596e+05\n",
      " 2.820e-01   2814.815 309153.464   4.411596e+05\n",
      " 2.830e-01   2814.815 309153.464   4.411596e+05\n",
      " 2.840e-01   2814.815 309153.464   4.411596e+05\n",
      " 2.850e-01   2814.815 309153.464   4.411596e+05\n",
      " 2.860e-01   2814.815 309153.464   4.411596e+05\n",
      " 2.870e-01   2814.815 309153.464   4.411596e+05\n",
      " 2.880e-01   2814.815 309153.464   4.411596e+05\n",
      " 2.890e-01   2814.815 309153.464   4.411596e+05\n",
      " 2.900e-01   2814.815 309153.464   4.411596e+05\n",
      " 2.910e-01   2814.815 309153.464   4.411596e+05\n",
      " 2.920e-01   2814.815 309153.464   4.411596e+05\n",
      " 2.930e-01   2814.815 309153.464   4.411596e+05\n",
      " 2.940e-01   2814.815 309153.464   4.411596e+05\n",
      " 2.950e-01   2814.815 309153.464   4.411596e+05\n",
      " 2.960e-01   2814.815 309153.464   4.411596e+05\n",
      " 2.970e-01   2814.815 309153.464   4.411596e+05\n",
      " 2.980e-01   2814.815 309153.464   4.411596e+05\n",
      " 2.990e-01   2814.815 309153.464   4.411596e+05\n",
      " 3.000e-01   2814.815 309153.464   4.411596e+05\n",
      " 3.010e-01   2814.815 309153.464   4.411596e+05\n",
      " 3.020e-01   2814.815 309153.464   4.411596e+05\n",
      " 3.030e-01   2814.815 309153.464   4.411596e+05\n",
      " 3.040e-01   2814.815 309153.464   4.411596e+05\n",
      " 3.050e-01   2814.815 309153.464   4.411596e+05\n",
      " 3.060e-01   2814.815 309153.464   4.411596e+05\n",
      " 3.070e-01   2814.815 309153.464   4.411596e+05\n",
      " 3.080e-01   2814.815 309153.464   4.411596e+05\n",
      " 3.090e-01   2814.815 309153.464   4.411596e+05\n",
      " 3.100e-01   2814.815 309153.464   4.411596e+05\n",
      " 3.110e-01   2814.815 309153.464   4.411596e+05\n",
      " 3.120e-01   2814.815 309153.464   4.411596e+05\n",
      " 3.130e-01   2814.815 309153.464   4.411596e+05\n",
      " 3.140e-01   2814.815 309153.464   4.411596e+05\n",
      " 3.150e-01   2814.815 309153.464   4.411596e+05\n",
      " 3.160e-01   2814.815 309153.464   4.411596e+05\n",
      " 3.170e-01   2814.815 309153.464   4.411596e+05\n",
      " 3.180e-01   2814.815 309153.464   4.411596e+05\n",
      " 3.190e-01   2814.815 309153.464   4.411596e+05\n",
      " 3.200e-01   2814.815 309153.464   4.411596e+05\n",
      " 3.210e-01   2814.815 309153.464   4.411596e+05\n",
      " 3.220e-01   2814.815 309153.464   4.411596e+05\n",
      " 3.230e-01   2814.815 309153.464   4.411596e+05\n",
      " 3.240e-01   2814.815 309153.464   4.411596e+05\n",
      " 3.250e-01   2814.815 309153.464   4.411596e+05\n",
      " 3.260e-01   2814.815 309153.464   4.411596e+05\n",
      " 3.270e-01   2814.815 309153.464   4.411596e+05\n",
      " 3.280e-01   2814.815 309153.464   4.411596e+05\n",
      " 3.290e-01   2814.815 309153.464   4.411596e+05\n",
      " 3.300e-01   2814.815 309153.464   4.411596e+05\n",
      " 3.310e-01   2814.815 309153.464   4.411596e+05\n",
      " 3.320e-01   2814.815 309153.464   4.411596e+05\n",
      " 3.330e-01   2814.815 309153.464   4.411596e+05\n",
      " 3.340e-01   2814.815 309153.464   4.411596e+05\n",
      " 3.350e-01   2814.815 309153.464   4.411596e+05\n",
      " 3.360e-01   2814.815 309153.464   4.411596e+05\n",
      " 3.370e-01   2814.815 309153.464   4.411596e+05\n",
      " 3.380e-01   2814.815 309153.464   4.411596e+05\n",
      " 3.390e-01   2814.815 309153.464   4.411596e+05\n",
      " 3.400e-01   2814.815 309153.464   4.411596e+05\n",
      " 3.410e-01   2814.815 309153.464   4.411596e+05\n",
      " 3.420e-01   2814.815 309153.464   4.411596e+05\n",
      " 3.430e-01   2814.815 309153.464   4.411596e+05\n",
      " 3.440e-01   2814.815 309153.464   4.411596e+05\n",
      " 3.450e-01   2814.815 309153.464   4.411596e+05\n",
      " 3.460e-01   2814.815 309153.464   4.411596e+05\n",
      " 3.470e-01   2814.815 309153.464   4.411596e+05\n",
      " 3.480e-01   2814.815 309153.464   4.411596e+05\n",
      " 3.490e-01   2814.815 309153.464   4.411596e+05\n",
      " 3.500e-01   2814.815 309153.464   4.411596e+05\n",
      " 3.510e-01   2814.815 309153.464   4.411596e+05\n",
      " 3.520e-01   2814.815 309153.464   4.411596e+05\n",
      " 3.530e-01   2814.815 309153.464   4.411596e+05\n",
      " 3.540e-01   2814.815 309153.464   4.411596e+05\n",
      " 3.550e-01   2814.815 309153.464   4.411596e+05\n",
      " 3.560e-01   2814.815 309153.464   4.411596e+05\n",
      " 3.570e-01   2814.815 309153.464   4.411596e+05\n",
      " 3.580e-01   2814.815 309153.464   4.411596e+05\n",
      " 3.590e-01   2814.815 309153.464   4.411596e+05\n",
      " 3.600e-01   2814.815 309153.464   4.411596e+05\n",
      " 3.610e-01   2814.815 309153.464   4.411596e+05\n",
      " 3.620e-01   2814.815 309153.464   4.411596e+05\n",
      " 3.630e-01   2814.815 309153.464   4.411596e+05\n",
      " 3.640e-01   2814.815 309153.464   4.411596e+05\n",
      " 3.650e-01   2814.815 309153.464   4.411596e+05\n",
      " 3.660e-01   2814.815 309153.464   4.411596e+05\n",
      " 3.670e-01   2814.815 309153.464   4.411596e+05\n",
      " 3.680e-01   2814.815 309153.464   4.411596e+05\n",
      " 3.690e-01   2814.815 309153.464   4.411596e+05\n",
      " 3.700e-01   2814.815 309153.464   4.411596e+05\n",
      " 3.710e-01   2814.815 309153.464   4.411596e+05\n",
      " 3.720e-01   2814.815 309153.464   4.411596e+05\n",
      " 3.730e-01   2814.815 309153.464   4.411596e+05\n",
      " 3.740e-01   2814.815 309153.464   4.411596e+05\n",
      " 3.750e-01   2814.815 309153.464   4.411596e+05\n",
      " 3.760e-01   2814.815 309153.464   4.411596e+05\n",
      " 3.770e-01   2814.815 309153.464   4.411596e+05\n",
      " 3.780e-01   2814.815 309153.464   4.411596e+05\n",
      " 3.790e-01   2814.815 309153.464   4.411596e+05\n",
      " 3.800e-01   2814.815 309153.464   4.411596e+05\n",
      " 3.810e-01   2814.815 309153.464   4.411596e+05\n",
      " 3.820e-01   2814.815 309153.464   4.411596e+05\n",
      " 3.830e-01   2814.815 309153.464   4.411596e+05\n",
      " 3.840e-01   2814.815 309153.464   4.411596e+05\n",
      " 3.850e-01   2814.815 309153.464   4.411596e+05\n",
      " 3.860e-01   2814.815 309153.464   4.411596e+05\n",
      " 3.870e-01   2814.815 309153.464   4.411596e+05\n",
      " 3.880e-01   2814.815 309153.464   4.411596e+05\n",
      " 3.890e-01   2814.815 309153.464   4.411596e+05\n",
      " 3.900e-01   2814.815 309153.464   4.411596e+05\n",
      " 3.910e-01   2814.815 309153.464   4.411596e+05\n",
      " 3.920e-01   2814.815 309153.464   4.411596e+05\n",
      " 3.930e-01   2814.815 309153.464   4.411596e+05\n",
      " 3.940e-01   2814.815 309153.464   4.411596e+05\n",
      " 3.950e-01   2814.815 309153.464   4.411596e+05\n",
      " 3.960e-01   2814.815 309153.464   4.411596e+05\n",
      " 3.970e-01   2814.815 309153.464   4.411596e+05\n",
      " 3.980e-01   2814.815 309153.464   4.411596e+05\n",
      " 3.990e-01   2814.815 309153.464   4.411596e+05\n",
      " 4.000e-01   2814.815 309153.464   4.411596e+05\n",
      " 4.010e-01   2814.815 309153.464   4.411596e+05\n",
      " 4.020e-01   2814.815 309153.464   4.411596e+05\n",
      " 4.030e-01   2814.815 309153.464   4.411596e+05\n",
      " 4.040e-01   2814.815 309153.464   4.411596e+05\n",
      " 4.050e-01   2814.815 309153.464   4.411596e+05\n",
      " 4.060e-01   2814.815 309153.464   4.411596e+05\n",
      " 4.070e-01   2814.815 309153.464   4.411596e+05\n",
      " 4.080e-01   2814.815 309153.464   4.411596e+05\n",
      " 4.090e-01   2814.815 309153.464   4.411596e+05\n",
      " 4.100e-01   2814.815 309153.464   4.411596e+05\n",
      " 4.110e-01   2814.815 309153.464   4.411596e+05\n",
      " 4.120e-01   2814.815 309153.464   4.411596e+05\n",
      " 4.130e-01   2814.815 309153.464   4.411596e+05\n",
      " 4.140e-01   2814.815 309153.464   4.411596e+05\n",
      " 4.150e-01   2814.815 309153.464   4.411596e+05\n",
      " 4.160e-01   2814.815 309153.464   4.411596e+05\n",
      " 4.170e-01   2814.815 309153.464   4.411596e+05\n",
      " 4.180e-01   2814.815 309153.464   4.411596e+05\n",
      " 4.190e-01   2814.815 309153.464   4.411596e+05\n",
      " 4.200e-01   2814.815 309153.464   4.411596e+05\n",
      " 4.210e-01   2814.815 309153.464   4.411596e+05\n",
      " 4.220e-01   2814.815 309153.464   4.411596e+05\n",
      " 4.230e-01   2814.815 309153.464   4.411596e+05\n",
      " 4.240e-01   2814.815 309153.464   4.411596e+05\n",
      " 4.250e-01   2814.815 309153.464   4.411596e+05\n",
      " 4.260e-01   2814.815 309153.464   4.411596e+05\n",
      " 4.270e-01   2814.815 309153.464   4.411596e+05\n",
      " 4.280e-01   2814.815 309153.464   4.411596e+05\n",
      " 4.290e-01   2814.815 309153.464   4.411596e+05\n",
      " 4.300e-01   2814.815 309153.464   4.411596e+05\n",
      " 4.310e-01   2814.815 309153.464   4.411596e+05\n",
      " 4.320e-01   2814.815 309153.464   4.411596e+05\n",
      " 4.330e-01   2814.815 309153.464   4.411596e+05\n",
      " 4.340e-01   2814.815 309153.464   4.411596e+05\n",
      " 4.350e-01   2814.815 309153.464   4.411596e+05\n",
      " 4.360e-01   2814.815 309153.464   4.411596e+05\n",
      " 4.370e-01   2814.815 309153.464   4.411596e+05\n",
      " 4.380e-01   2814.815 309153.464   4.411596e+05\n",
      " 4.390e-01   2814.815 309153.464   4.411596e+05\n",
      " 4.400e-01   2814.815 309153.464   4.411596e+05\n",
      " 4.410e-01   2814.815 309153.464   4.411596e+05\n",
      " 4.420e-01   2814.815 309153.464   4.411596e+05\n",
      " 4.430e-01   2814.815 309153.464   4.411596e+05\n",
      " 4.440e-01   2814.815 309153.464   4.411596e+05\n",
      " 4.450e-01   2814.815 309153.464   4.411596e+05\n",
      " 4.460e-01   2814.815 309153.464   4.411596e+05\n",
      " 4.470e-01   2814.815 309153.464   4.411596e+05\n",
      " 4.480e-01   2814.815 309153.464   4.411596e+05\n",
      " 4.490e-01   2814.815 309153.464   4.411596e+05\n",
      " 4.500e-01   2814.815 309153.464   4.411596e+05\n",
      " 4.510e-01   2814.815 309153.464   4.411596e+05\n",
      " 4.520e-01   2814.815 309153.464   4.411596e+05\n",
      " 4.530e-01   2814.815 309153.464   4.411596e+05\n",
      " 4.540e-01   2814.815 309153.464   4.411596e+05\n",
      " 4.550e-01   2814.815 309153.464   4.411596e+05\n",
      " 4.560e-01   2814.815 309153.464   4.411596e+05\n",
      " 4.570e-01   2814.815 309153.464   4.411596e+05\n",
      " 4.580e-01   2814.815 309153.464   4.411596e+05\n",
      " 4.590e-01   2814.815 309153.464   4.411596e+05\n",
      " 4.600e-01   2814.815 309153.464   4.411596e+05\n",
      " 4.610e-01   2814.815 309153.464   4.411596e+05\n",
      " 4.620e-01   2814.815 309153.464   4.411596e+05\n",
      " 4.630e-01   2814.815 309153.464   4.411596e+05\n",
      " 4.640e-01   2814.815 309153.464   4.411596e+05\n",
      " 4.650e-01   2814.815 309153.464   4.411596e+05\n",
      " 4.660e-01   2814.815 309153.464   4.411596e+05\n",
      " 4.670e-01   2814.815 309153.464   4.411596e+05\n",
      " 4.680e-01   2814.815 309153.464   4.411596e+05\n",
      " 4.690e-01   2814.815 309153.464   4.411596e+05\n",
      " 4.700e-01   2814.815 309153.464   4.411596e+05\n",
      " 4.710e-01   2814.815 309153.464   4.411596e+05\n",
      " 4.720e-01   2814.815 309153.464   4.411596e+05\n",
      " 4.730e-01   2814.815 309153.464   4.411596e+05\n",
      " 4.740e-01   2814.815 309153.464   4.411596e+05\n",
      " 4.750e-01   2814.815 309153.464   4.411596e+05\n",
      " 4.760e-01   2814.815 309153.464   4.411596e+05\n",
      " 4.770e-01   2814.815 309153.464   4.411596e+05\n",
      " 4.780e-01   2814.815 309153.464   4.411596e+05\n",
      " 4.790e-01   2814.815 309153.464   4.411596e+05\n",
      " 4.800e-01   2814.815 309153.464   4.411596e+05\n",
      " 4.810e-01   2814.815 309153.464   4.411596e+05\n",
      " 4.820e-01   2814.815 309153.464   4.411596e+05\n",
      " 4.830e-01   2814.815 309153.464   4.411596e+05\n",
      " 4.840e-01   2814.815 309153.464   4.411596e+05\n",
      " 4.850e-01   2814.815 309153.464   4.411596e+05\n",
      " 4.860e-01   2814.815 309153.464   4.411596e+05\n",
      " 4.870e-01   2814.815 309153.464   4.411596e+05\n",
      " 4.880e-01   2814.815 309153.464   4.411596e+05\n",
      " 4.890e-01   2814.815 309153.464   4.411596e+05\n",
      " 4.900e-01   2814.815 309153.464   4.411596e+05\n",
      " 4.910e-01   2814.815 309153.464   4.411596e+05\n",
      " 4.920e-01   2814.815 309153.464   4.411596e+05\n",
      " 4.930e-01   2814.815 309153.464   4.411596e+05\n",
      " 4.940e-01   2814.815 309153.464   4.411596e+05\n",
      " 4.950e-01   2814.815 309153.464   4.411596e+05\n",
      " 4.960e-01   2814.815 309153.464   4.411596e+05\n",
      " 4.970e-01   2814.815 309153.464   4.411596e+05\n",
      " 4.980e-01   2814.815 309153.464   4.411596e+05\n",
      " 4.990e-01   2814.815 309153.464   4.411596e+05\n",
      " 5.000e-01   2814.815 309153.464   4.411596e+05\n"
     ]
    }
   ],
   "source": [
    "gas.TPX = 1000, 1e5, 'nc7h16:1.0,o2:11.0,n2:41.58'\n",
    "#gas.TPX = 1000, 1e5, 'nc7h16:1.0,o2:xxxx,n2:xxxx' # fill in your calculated o2, n2 values.\n",
    "\n",
    "reactor = ct.IdealGasReactor(gas)\n",
    "reactor_network = ct.ReactorNet([reactor])\n",
    "\n",
    "start_time = 0.0  #starting time\n",
    "end_time = 0.5 # seconds\n",
    "n_steps = 501\n",
    "times = np.linspace(start_time, end_time, n_steps)\n",
    "concentrations = np.zeros((n_steps, gas.n_species))\n",
    "mole_frac = np.zeros((n_steps, gas.n_species))\n",
    "pressures = np.zeros(n_steps)\n",
    "temperatures = np.zeros(n_steps)\n",
    "\n",
    "print_data = True\n",
    "if print_data:\n",
    "    #this just gives headings\n",
    "    print('{0:>10s} {1:>10s} {2:>10s} {3:>14s}'.format(\n",
    "            't [s]','T [K]','P [Pa]','u [J/kg]')) \n",
    "\n",
    "for n, time in enumerate(times):\n",
    "    if time > 0:\n",
    "        reactor_network.advance(time)\n",
    "    temperatures[n] = reactor.T\n",
    "    pressures[n] = reactor.thermo.P\n",
    "    concentrations[n,:] = reactor.thermo.concentrations\n",
    "    mole_frac[n,:] = gas.X\n",
    "    if print_data:\n",
    "        print('{0:10.3e} {1:10.3f} {2:10.3f} {3:14.6e}'.format(\n",
    "                 reactor_network.time, reactor.T, reactor.thermo.P, reactor.thermo.u))"
   ]
  },
  {
   "cell_type": "markdown",
   "metadata": {},
   "source": [
    "#### c. What is the approximate ignition time? (hint: when do the temperature, pressure have the largest change?) Change initial temperature, pressure in the cell above, and comment on the change in ignition time."
   ]
  },
  {
   "cell_type": "code",
   "execution_count": 226,
   "metadata": {
    "collapsed": false
   },
   "outputs": [
    {
     "name": "stdout",
     "output_type": "stream",
     "text": [
      "The maximum mole fraction of NO is 1.44e-04\n"
     ]
    },
    {
     "data": {
      "image/png": "[encoded data removed]",
      "text/plain": [
       "<matplotlib.figure.Figure at 0x10825e250>"
      ]
     },
     "metadata": {},
     "output_type": "display_data"
    }
   ],
   "source": [
    "i_no = gas.species_names.index('no')\n",
    "i_o2 = gas.species_names.index('o2')\n",
    "i_oh = gas.species_names.index('oh')\n",
    "plt.plot(times, mole_frac[:,i_no], label='NO')\n",
    "#plt.plot(times, mole_frac[:,i_o2], label='O2')\n",
    "plt.plot(times, mole_frac[:,i_oh], label='OH')\n",
    "plt.xlim(0.01, 0.1)\n",
    "plt.legend(loc='best')\n",
    "print \"The maximum mole fraction of NO is {:.2e}\".format(np.max(concentrations[:,i_no]))"
   ]
  },
  {
   "cell_type": "markdown",
   "metadata": {},
   "source": [
    "#### d. At what conditions can we achieve a maximum NO mole fraction of 0.005?"
   ]
  },
  {
   "cell_type": "code",
   "execution_count": null,
   "metadata": {
    "collapsed": true
   },
   "outputs": [],
   "source": []
  }
 ],
 "metadata": {
  "kernelspec": {
   "display_name": "Python 2",
   "language": "python",
   "name": "python2"
  },
  "language_info": {
   "codemirror_mode": {
    "name": "ipython",
    "version": 2
   },
   "file_extension": ".py",
   "mimetype": "text/x-python",
   "name": "python",
   "nbconvert_exporter": "python",
   "pygments_lexer": "ipython2",
   "version": "2.7.5"
  }
 },
 "nbformat": 4,
 "nbformat_minor": 1
}
