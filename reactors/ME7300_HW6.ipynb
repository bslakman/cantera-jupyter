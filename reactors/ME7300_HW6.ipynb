{
 "cells": [
  {
   "cell_type": "markdown",
   "metadata": {},
   "source": [
    "# Combustion and Air Pollution HW #6\n",
    "\n",
    "#### Consider combustion of n-heptane ($C_7H_{16}$). Heptane and air are introduced to a constant volume chamber. First let's consider $\\phi$ = 1.0 and atmospheric pressure. Upon ignition, combustion of the premixed fuel/air occurs at constant volume and constant internal energy (assuming that the chamber is adiabatic).\n",
    "\n",
    "#### Calculate:\n",
    "1. The adiabatic flame temperature if the fuel and air are preheated and introduced into the chamber at 500 K, for $\\phi$ = 0.5, 0.8, 1.0, and 1.3. Plot the result ( $T_{flame}$ vs $\\phi$ ) with Excel, or use Python if you are comfortable.\n",
    "2. The NO mole fraction at equlibrium for $\\phi$ = 0.5, 0.8, 1.0, and 1.3. Plot the result ( $x_{NO}$ vs $\\phi$ ) with Excel, or use Python if you are comfortable.\n",
    "3. The time at which the fuel ignites for $\\phi$ =  0.8, 1.0, and 1.3\n",
    "4. The time at which mole fraction of the fuel drops below 100 ppm for each $\\phi$\n",
    "5. At what time should we quench the reaction (by rapid expansion) if we want to keep NO emissions below 1000 ppm, for each $\\phi$? Is this before or after the time in part (4)?\n",
    "6. Also calculate 1-5 for the $\\phi$ = 1.0 case by hand / using STANJAN.\n",
    "\n",
    "In this homework we will use more detailed combustion chemistry then we previously considered in this class, along with the Zeldovich mechanism for thermal fixation of atmospheric N2, to model and predict NOx formation in heptane combustion.\n",
    "We use an open source software tool called [Cantera](http://www.cantera.org/docs/sphinx/html/index.html) which helps us solve thermodynamics and kinetics problems.\n",
    "\n",
    "This homework was adapted from a lecture in Prof. Richard West's undergraduate chemical kinetics class in the Department of Chemical Engineering as well as existing Python notebooks in the [cantera-jupyter project](https://github.com/cantera/cantera-jupyter). \n",
    "\n",
    "The below code will guide you through questions 1-5.\n",
    "\n",
    "### Simply click inside the cells below to be able to type in and edit them, and press Shift+Enter to execute the code in a cell that is selected."
   ]
  },
  {
   "cell_type": "code",
   "execution_count": null,
   "metadata": {
    "collapsed": true
   },
   "outputs": [],
   "source": [
    "# Imports\n",
    "import cantera as ct\n",
    "import numpy as np\n",
    "import matplotlib.pyplot as plt\n",
    "import seaborn\n",
    "%matplotlib inline"
   ]
  },
  {
   "cell_type": "markdown",
   "metadata": {},
   "source": [
    "The n-heptane ($C_7H_{16}$) mechanism we will consider is from the Lawrence Livermore National Lab (LLNL), with the 3-reaction Zeldovich mechanism manually added to it. First we create a Solution object in Cantera for n-heptane gas that includes all of the thermodynamic and kinetic parameters needed to describe its combustion. (Don't worry about the warning)"
   ]
  },
  {
   "cell_type": "code",
   "execution_count": null,
   "metadata": {
    "collapsed": false
   },
   "outputs": [],
   "source": [
    "gas = ct.Solution('heptanesymp159.cti')"
   ]
  },
  {
   "cell_type": "markdown",
   "metadata": {},
   "source": [
    "We can print out some chemical species and reactions that are considered in the mechanism:"
   ]
  },
  {
   "cell_type": "code",
   "execution_count": null,
   "metadata": {
    "collapsed": false
   },
   "outputs": [],
   "source": [
    "print \"Some of the species in the mechanism:\"\n",
    "print \" \".join(gas.species_names[:20])\n",
    "print \"\\n\"\n",
    "\n",
    "print \"Model includes reactions that break down the fuel ('nc7h16'):\"\n",
    "for i in range(1052,1102,5):\n",
    "    print gas.reaction(i)\n",
    "print \"\\n\"\n",
    "\n",
    "print \"And also contains small molecule chemistry:\"\n",
    "for i in range(20):\n",
    "    print gas.reaction(i)\n",
    "print \"\\n\"\n",
    "print \"There are {0} total reactions in this mechanism!\".format(len(gas.reactions()))"
   ]
  },
  {
   "cell_type": "markdown",
   "metadata": {},
   "source": [
    "Let's look at the last few reactions in the mechanism, representing the Zeldovich mechanism."
   ]
  },
  {
   "cell_type": "code",
   "execution_count": null,
   "metadata": {
    "collapsed": false
   },
   "outputs": [],
   "source": [
    "zeldovich = gas.reactions()[-3:]\n",
    "for rxn in zeldovich:\n",
    "    print rxn.equation, rxn.rate"
   ]
  },
  {
   "cell_type": "markdown",
   "metadata": {},
   "source": [
    "#### 1. Calculate the adiabatic flame temperature if the fuel and air are preheated and introduced into the chamber at 500 K. \n",
    "First, we need to initialize the fuel at the correct temperature (K), pressure (Pa) and mole fractions (these can be molar ratios, Cantera will normalize them, like in STANJAN).\n",
    "Replace the \"xxxx\" with the correct number of moles.\n",
    "\n",
    "We'll find the equilibrium flame temperature by equilibrating keeping volume and internal energy\n",
    "constant."
   ]
  },
  {
   "cell_type": "code",
   "execution_count": null,
   "metadata": {
    "collapsed": false
   },
   "outputs": [],
   "source": [
    "equivalence_ratios = np.array([0.5,0.8,1.0,1.3])\n",
    "T = np.zeros_like(equivalence_ratios)\n",
    "\n",
    "# phi=0.5\n",
    "gas.TPX = 500, 1e5, 'nc7h16:1.0,o2:xxxx,n2:xxxx'\n",
    "gas.equilibrate('UV')\n",
    "T[0] = gas.T\n",
    "\n",
    "# phi=0.8\n",
    "gas.TPX = 500, 1e5, 'nc7h16:1.0,o2:xxxx,n2:xxxx'\n",
    "gas.equilibrate('UV')\n",
    "T[1] = gas.T\n",
    "\n",
    "#phi=1.0\n",
    "gas.TPX = 500, 1e5, 'nc7h16:1.0,o2:xxxx,n2:xxxx'\n",
    "gas.equilibrate('UV')\n",
    "T[2] = gas.T\n",
    "\n",
    "#phi=1.3\n",
    "gas.TPX = 500, 1e5, 'nc7h16:1.0,o2:xxxx,n2:xxxx'\n",
    "gas.equilibrate('UV')\n",
    "T[3] = gas.T\n",
    "            \n",
    "for phi, temp in zip(equivalence_ratios, T):\n",
    "    print \"For eq ratio {0}, adiabatic flame temperature is {1}\".format(round(phi,1), int(round(temp,0)))"
   ]
  },
  {
   "cell_type": "markdown",
   "metadata": {
    "collapsed": true
   },
   "source": [
    "#### 2. Calculate the NO mole fraction at equlibrium for $\\phi$ = 0.5, 0.8, 1.0, and 1.3\n",
    "This time, we'll use a loop to go through equivalence ratios between 0.1 - 2.0 "
   ]
  },
  {
   "cell_type": "code",
   "execution_count": null,
   "metadata": {
    "collapsed": false,
    "scrolled": true
   },
   "outputs": [],
   "source": [
    "equivalence_ratios = np.linspace(0.1, 2, 25)\n",
    "x_NO = np.zeros_like(equivalence_ratios)\n",
    "temperatures = np.zeros_like(equivalence_ratios)\n",
    "for i, phi in enumerate(equivalence_ratios):\n",
    "    mol_O2 = 11.0 / phi\n",
    "    mol_N2 = 3.78 * mol_O2\n",
    "    X_string = \"nc7h16:1.0,o2:\" + str(round(mol_O2, 2)) + \",n2:\" + str(round(mol_N2, 2))\n",
    "    gas.TPX = 500, 1e5, X_string\n",
    "    gas.equilibrate('UV')\n",
    "    temperatures[i] = gas.T\n",
    "    x_NO[i] = gas['no'].X[0]\n",
    "    if round(phi,1) in [0.5, 0.8, 1.0, 1.3]:\n",
    "        print \"For eq ratio {0}, NO = {1} ppm\".format(round(phi,1), int(1E6*x_NO[i]))"
   ]
  },
  {
   "cell_type": "markdown",
   "metadata": {},
   "source": [
    "#### 3. Calculate the time at which the fuel ignites for $\\phi$ = 0.5, 0.8, 1.0, and 1.3\n",
    "#### 4. Calculate the time at which mole fraction of the fuel drops below 100 ppm for each $\\phi$\n",
    "#### 5. At what time should we quench the reaction if we want to keep NO emissions below 1000 ppm? Is this before or after the time in part (4)?"
   ]
  },
  {
   "cell_type": "markdown",
   "metadata": {},
   "source": [
    "For these three questions, we need to calculate kinetics.\n",
    "The following code will utilize an ideal gas reactor (constant volume) in Cantera to model the reactor. We will print the answers to questions 3-5."
   ]
  },
  {
   "cell_type": "code",
   "execution_count": null,
   "metadata": {
    "collapsed": false
   },
   "outputs": [],
   "source": [
    "equivalence_ratios = np.array([0.8, 1.0, 1.3])\n",
    "ignitions = np.array([70.69, 69.45, 68.19])\n",
    "i_fuel = gas.species_names.index('nc7h16')\n",
    "i_no = gas.species_names.index('no')\n",
    "i_oh = gas.species_names.index('oh')\n",
    "i_o = gas.species_names.index('o')\n",
    "i_h = gas.species_names.index('h')\n",
    "i_n2 = gas.species_names.index('n2')\n",
    "\n",
    "plt.figure(figsize=(6,12))\n",
    "plt_temps = plt.subplot(3,1,1)\n",
    "plt_input_spec = plt.subplot(3,1,2)\n",
    "plt_radicals = plt.subplot(3,1,3)\n",
    "\n",
    "for phi, t in zip(equivalence_ratios, ignitions):\n",
    "    \n",
    "    mol_O2 = 11.0 / phi\n",
    "    mol_N2 = 3.78 * mol_O2\n",
    "    X_string = \"nc7h16:1.0,o2:\" + str(round(mol_O2, 2)) + \",n2:\" + str(round(mol_N2, 2))\n",
    "    gas.TPX = 500, 1e5, X_string\n",
    "\n",
    "    reactor = ct.IdealGasReactor(gas)\n",
    "    reactor_network = ct.ReactorNet([reactor])\n",
    "\n",
    "    start_time = t  #starting time\n",
    "    end_time = t+0.05 # seconds\n",
    "    n_steps = 251\n",
    "    times = np.linspace(start_time, end_time, n_steps)\n",
    "    concentrations = np.zeros((n_steps, gas.n_species))\n",
    "    mole_frac = np.zeros((n_steps, gas.n_species))\n",
    "    pressures = np.zeros(n_steps)\n",
    "    temperatures = np.zeros(n_steps)\n",
    "\n",
    "    reached_100ppm = False\n",
    "    ignited = False\n",
    "    reached_NO = False\n",
    "\n",
    "    for n, time in enumerate(times):\n",
    "        if time > 0:\n",
    "            reactor_network.advance(time)\n",
    "        temperatures[n] = reactor.T\n",
    "        pressures[n] = reactor.thermo.P\n",
    "        concentrations[n,:] = reactor.thermo.concentrations\n",
    "        mole_frac[n,:] = gas.X\n",
    "        if reactor.T > 1000 and not ignited: # Ignition time, estimate it to be when T is above 1000 K\n",
    "            ignited = True\n",
    "            print \"At equivalence ratio {0}, fuel ignites at {1} seconds\".format(str(phi), str(round(time,6)))\n",
    "        if 1e6*mole_frac[n, i_fuel] < 100.0 and not reached_100ppm: # Fuel is < 100 ppm\n",
    "            reached_100ppm = True\n",
    "            print \"At equivalence ratio {0}, fuel reaches 100 ppm at {1} seconds\".format(str(phi), str(round(time,6)))\n",
    "        if 1e6*mole_frac[n, i_no] >= 1000.0 and not reached_NO: # NO is >= 1000 ppm\n",
    "            reached_NO = True\n",
    "            print \"At equivalence ratio {0}, reaction should be quenched at {1} seconds\".format(str(phi), str(round(time,6)))\n",
    "            print \"\\n\"\n",
    "    \n",
    "    plt_temps.plot(times-t, temperatures, label = \"$\\phi$=\" + str(phi)) # Renormalized to just before ignition\n",
    "    \n",
    "    # Print other plots just for stoichiometric combustion\n",
    "    if phi == 1.0:\n",
    "        plt_input_spec.plot(times-t, 1E6*mole_frac[:, i_fuel], label = \"C7H14, $\\phi$ = 1.0\")\n",
    "        plt_radicals.plot(times-t, 1E6*mole_frac[:,i_no], label = \"NO\")\n",
    "        plt_radicals.plot(times-t, 1E6*mole_frac[:,i_oh], label = \"OH\")\n",
    "        plt_radicals.plot(times-t, 1E6*mole_frac[:,i_o], label = \"O\")\n",
    "        plt_radicals.plot(times-t, 1E6*mole_frac[:,i_h], label = \"H\")\n",
    "plt_temps.set_xlabel(\"Time (s)\")\n",
    "plt_temps.set_ylabel(\"Temperature (K)\")\n",
    "plt_temps.legend(loc='best')\n",
    "plt_input_spec.set_xlabel(\"Time (s)\")\n",
    "plt_input_spec.set_ylabel(\"Mole fraction (ppm)\")\n",
    "plt_input_spec.legend(loc='best')\n",
    "plt_radicals.set_xlabel(\"Time (s)\")\n",
    "plt_radicals.set_ylabel(\"Mole fraction (ppm)\")\n",
    "plt_radicals.legend(loc='best')"
   ]
  }
 ],
 "metadata": {
  "kernelspec": {
   "display_name": "Python 2",
   "language": "python",
   "name": "python2"
  },
  "language_info": {
   "codemirror_mode": {
    "name": "ipython",
    "version": 2
   },
   "file_extension": ".py",
   "mimetype": "text/x-python",
   "name": "python",
   "nbconvert_exporter": "python",
   "pygments_lexer": "ipython2",
   "version": "2.7.5"
  }
 },
 "nbformat": 4,
 "nbformat_minor": 1
}
