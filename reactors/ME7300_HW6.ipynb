{
 "cells": [
  {
   "cell_type": "markdown",
   "metadata": {},
   "source": [
    "# Combustion and Air Pollution HW #6\n",
    "\n",
    "In this homework we will use more detailed combustion chemistry then we previously considered in this class, along with the Zeldovich mechanism for thermal fixation of atmospheric N2, to model and predict NOx formation in heptane combustion.\n",
    "We use an open source software tool called [Cantera](http://www.cantera.org/docs/sphinx/html/index.html) which helps us solve thermodynamics and kinetics problems.\n",
    "\n",
    "This homework was adapted from a lecture in Prof. Richard West's undergraduate chemical kinetics class in the Department of Chemical Engineering as well as existing Python notebooks in the [cantera-jupyter project](https://github.com/cantera/cantera-jupyter). \n",
    "\n",
    "#### Simply click inside the cells below to be able to type in and edit them, and press Shift+Enter to execute the code in a cell that is selected."
   ]
  },
  {
   "cell_type": "code",
   "execution_count": 1,
   "metadata": {
    "collapsed": true
   },
   "outputs": [],
   "source": [
    "import cantera as ct\n",
    "import numpy as np\n",
    "import scipy"
   ]
  },
  {
   "cell_type": "markdown",
   "metadata": {},
   "source": [
    "The n-heptane ($C_7H_{16}$) mechanism we will consider is from the Lawrence Livermore National Lab (LLNL), with the 3-reaction Zeldovich mechanism manually added to it. First we create a Solution object in Cantera for n-heptane gas that includes all of the thermodynamic and kinetic parameters needed to describe its combustion. (Don't worry about the warning)"
   ]
  },
  {
   "cell_type": "code",
   "execution_count": 46,
   "metadata": {
    "collapsed": false
   },
   "outputs": [
    {
     "name": "stdout",
     "output_type": "stream",
     "text": [
      "\n",
      "\n",
      "**** WARNING ****\n",
      "For species c7h15o-1, discontinuity in cp/R detected at Tmid = 1391\n",
      "\tValue computed using low-temperature polynomial:  53.0168.\n",
      "\tValue computed using high-temperature polynomial: 52.748.\n"
     ]
    }
   ],
   "source": [
    "gas = ct.Solution('heptanesymp159.cti')"
   ]
  },
  {
   "cell_type": "markdown",
   "metadata": {},
   "source": [
    "We can print out some chemical species and reactions that are considered in the mechanism:"
   ]
  },
  {
   "cell_type": "code",
   "execution_count": 53,
   "metadata": {
    "collapsed": false
   },
   "outputs": [
    {
     "name": "stdout",
     "output_type": "stream",
     "text": [
      "n2 ch3 h ch4 h2 oh h2o o c2h6 c2h5 hco co co2 o2 h2o2 ho2 c2h4 ch3oh ch2oh ch3o\n",
      "ch3 + h (+M) => ch4 (+M)\n",
      "ch4 (+M) => ch3 + h (+M)\n",
      "ch4 + h => ch3 + h2\n",
      "ch3 + h2 => ch4 + h\n",
      "ch4 + oh => ch3 + h2o\n",
      "ch3 + h2o => ch4 + oh\n",
      "ch4 + o => ch3 + oh\n",
      "ch3 + oh => ch4 + o\n",
      "c2h6 + ch3 => c2h5 + ch4\n",
      "c2h5 + ch4 => c2h6 + ch3\n",
      "hco + oh => co + h2o\n",
      "co + h2o => hco + oh\n",
      "co + oh => co2 + h\n",
      "co2 + h => co + oh\n",
      "h + o2 => o + oh\n",
      "o + oh => h + o2\n",
      "h2 + o => h + oh\n",
      "h + oh => h2 + o\n",
      "h2o + o => 2 oh\n",
      "2 oh => h2o + o\n",
      "There are 1543 reactions in this mechanism!\n"
     ]
    }
   ],
   "source": [
    "print \" \".join(gas.species_names[:20])\n",
    "for i in range(20):\n",
    "    print gas.reaction(i)\n",
    "print \"There are {0} reactions in this mechanism!\".format(len(gas.reactions()))"
   ]
  },
  {
   "cell_type": "markdown",
   "metadata": {},
   "source": [
    "Let's look at the last few reactions in the mechanism, representing the Zeldovich mechanism."
   ]
  },
  {
   "cell_type": "code",
   "execution_count": 51,
   "metadata": {
    "collapsed": false
   },
   "outputs": [
    {
     "name": "stdout",
     "output_type": "stream",
     "text": [
      "n + no <=> n2 + o Arrhenius(A=2.7e+10, b=0, E=1.48532e+06)\n",
      "n + o2 <=> no + o Arrhenius(A=9e+06, b=1, E=2.7196e+07)\n",
      "n + oh <=> h + no Arrhenius(A=3.36e+10, b=0, E=1.61084e+06)\n"
     ]
    }
   ],
   "source": [
    "zeldovich = gas.reactions()[-3:]\n",
    "for rxn in zeldovich:\n",
    "    print rxn.equation, rxn.rate"
   ]
  },
  {
   "cell_type": "markdown",
   "metadata": {},
   "source": [
    "Just want to check at least one rate to make sure it's reasonably close to the one in the book...These came from the gri mech."
   ]
  },
  {
   "cell_type": "code",
   "execution_count": 102,
   "metadata": {
    "collapsed": false
   },
   "outputs": [],
   "source": [
    "T = np.linspace(300,2500,100)"
   ]
  },
  {
   "cell_type": "code",
   "execution_count": 93,
   "metadata": {
    "collapsed": false
   },
   "outputs": [],
   "source": [
    "A = rxn.rate.pre_exponential_factor / 1000.0\n",
    "n = rxn.rate.temperature_exponent\n",
    "Ea = rxn.rate.activation_energy / 1000.0"
   ]
  },
  {
   "cell_type": "code",
   "execution_count": 103,
   "metadata": {
    "collapsed": false
   },
   "outputs": [],
   "source": [
    "rate_mech = A * T**n * np.exp(-Ea/8.314/T)\n",
    "rate_book = 7.1E7 * np.exp(-450.0/T)"
   ]
  },
  {
   "cell_type": "code",
   "execution_count": 95,
   "metadata": {
    "collapsed": true
   },
   "outputs": [],
   "source": [
    "import matplotlib.pyplot as plt\n",
    "%matplotlib inline"
   ]
  },
  {
   "cell_type": "code",
   "execution_count": 104,
   "metadata": {
    "collapsed": false
   },
   "outputs": [
    {
     "data": {
      "text/plain": [
       "[<matplotlib.lines.Line2D at 0x1069c5a10>]"
      ]
     },
     "execution_count": 104,
     "metadata": {},
     "output_type": "execute_result"
    },
    {
     "data": {
      "image/png": "[encoded data removed]",
      "text/plain": [
       "<matplotlib.figure.Figure at 0x1069cdb10>"
      ]
     },
     "metadata": {},
     "output_type": "display_data"
    }
   ],
   "source": [
    "plt.plot(1.0/T, np.log(rate_mech))\n",
    "plt.plot(1.0/T, np.log(rate_book))"
   ]
  },
  {
   "cell_type": "markdown",
   "metadata": {},
   "source": [
    "We'll specify a starting temperature and pressure of 1000 K and 10 bar, and stoichiometric combustion\n",
    "#### a. Specify the moles of O2 and N2 based on stoichiometric combustion.\n",
    "Replace the \"xxxx\" with the correct number of moles."
   ]
  },
  {
   "cell_type": "code",
   "execution_count": 118,
   "metadata": {
    "collapsed": true
   },
   "outputs": [],
   "source": [
    "gas.TPX = 1000, 10e5, 'nc7h16:1.0,o2:11.0,n2:41.58'\n",
    "#gas.TPX = 1000, 10e5, 'nc7h16:1.0,o2:xxxx,n2:xxxx'"
   ]
  },
  {
   "cell_type": "markdown",
   "metadata": {},
   "source": [
    "We'll find the equilibrium flame temperature by equilibrating keeping pressure and enthalpy constant."
   ]
  },
  {
   "cell_type": "code",
   "execution_count": 117,
   "metadata": {
    "collapsed": false
   },
   "outputs": [
    {
     "name": "stdout",
     "output_type": "stream",
     "text": [
      "The adiabatic flame temperature is 2691 K\n",
      "If you did part a properly, you should get a flame temperature of 2691 K.\n"
     ]
    }
   ],
   "source": [
    "gas.equilibrate('HP')\n",
    "print \"The adiabatic flame temperature is {0} K\".format(int(round(gas.T)))\n",
    "print \"If you did part a properly, you should get a flame temperature of 2691 K.\""
   ]
  },
  {
   "cell_type": "code",
   "execution_count": null,
   "metadata": {
    "collapsed": true
   },
   "outputs": [],
   "source": []
  }
 ],
 "metadata": {
  "kernelspec": {
   "display_name": "Python 2",
   "language": "python",
   "name": "python2"
  },
  "language_info": {
   "codemirror_mode": {
    "name": "ipython",
    "version": 2
   },
   "file_extension": ".py",
   "mimetype": "text/x-python",
   "name": "python",
   "nbconvert_exporter": "python",
   "pygments_lexer": "ipython2",
   "version": "2.7.5"
  }
 },
 "nbformat": 4,
 "nbformat_minor": 1
}
